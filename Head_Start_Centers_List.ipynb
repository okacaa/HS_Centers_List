{
 "cells": [
  {
   "cell_type": "code",
   "execution_count": 1,
   "metadata": {},
   "outputs": [],
   "source": [
    "import os\n",
    "import numpy as np\n",
    "import pandas as pd"
   ]
  },
  {
   "cell_type": "code",
   "execution_count": 2,
   "metadata": {
    "scrolled": true
   },
   "outputs": [
    {
     "name": "stdout",
     "output_type": "stream",
     "text": [
      "<class 'pandas.core.frame.DataFrame'>\n",
      "RangeIndex: 21598 entries, 0 to 21597\n",
      "Data columns (total 20 columns):\n",
      "name                      21598 non-null object\n",
      "latitude                  21598 non-null float64\n",
      "longitude                 21598 non-null float64\n",
      "grantee                   21598 non-null object\n",
      "grantNumber               21598 non-null object\n",
      "delegateNo                21598 non-null int64\n",
      "centerType                21598 non-null object\n",
      "programType               21598 non-null object\n",
      "programDelegateName       21598 non-null object\n",
      "programMainPhoneNumber    0 non-null float64\n",
      "programAddress            21598 non-null object\n",
      "programCity               21598 non-null object\n",
      "programState              21598 non-null object\n",
      "programZipCode            21578 non-null object\n",
      "phone                     21087 non-null object\n",
      "address                   21598 non-null object\n",
      "city                      21598 non-null object\n",
      "state                     21598 non-null object\n",
      "zip                       21598 non-null object\n",
      "id                        21598 non-null int64\n",
      "dtypes: float64(3), int64(2), object(15)\n",
      "memory usage: 3.3+ MB\n"
     ]
    }
   ],
   "source": [
    "cntrs = pd.read_csv(\"https://eclkc.ohs.acf.hhs.gov/sites/default/files/locatordata/ALL_all.csv\")\n",
    "cntrs.info()"
   ]
  },
  {
   "cell_type": "code",
   "execution_count": 3,
   "metadata": {
    "scrolled": false
   },
   "outputs": [
    {
     "name": "stdout",
     "output_type": "stream",
     "text": [
      "<class 'pandas.core.frame.DataFrame'>\n",
      "RangeIndex: 42632 entries, 0 to 42631\n",
      "Data columns (total 15 columns):\n",
      "zip                              42632 non-null object\n",
      "type                             42632 non-null object\n",
      "decommissioned                   42632 non-null object\n",
      "primary_city                     42632 non-null object\n",
      "acceptable_cities                9023 non-null object\n",
      "unacceptable_cities              12318 non-null object\n",
      "state                            42632 non-null object\n",
      "county                           41790 non-null object\n",
      "timezone                         41918 non-null object\n",
      "area_codes                       39698 non-null object\n",
      "world_region                     333 non-null object\n",
      "country                          42632 non-null object\n",
      "latitude                         42632 non-null object\n",
      "longitude                        42632 non-null object\n",
      "irs_estimated_population_2015    42632 non-null object\n",
      "dtypes: object(15)\n",
      "memory usage: 4.9+ MB\n"
     ]
    }
   ],
   "source": [
    "## zip_code_database.csv source: https://www.unitedstateszipcodes.org/zip-code-database/\n",
    "\n",
    "z = pd.read_csv('zip_code_database.csv', dtype=object)\n",
    "z.info()"
   ]
  },
  {
   "cell_type": "code",
   "execution_count": 4,
   "metadata": {
    "scrolled": true
   },
   "outputs": [
    {
     "name": "stdout",
     "output_type": "stream",
     "text": [
      "<class 'pandas.core.frame.DataFrame'>\n",
      "Int64Index: 776 entries, 31903 to 32681\n",
      "Data columns (total 3 columns):\n",
      "zip       776 non-null object\n",
      "state     776 non-null object\n",
      "county    773 non-null object\n",
      "dtypes: object(3)\n",
      "memory usage: 24.2+ KB\n"
     ]
    }
   ],
   "source": [
    "z_ok = z.loc[z['state'] == 'OK', ['zip', 'state', 'county']]\n",
    "z_ok.info()"
   ]
  },
  {
   "cell_type": "code",
   "execution_count": 5,
   "metadata": {
    "scrolled": true
   },
   "outputs": [
    {
     "name": "stdout",
     "output_type": "stream",
     "text": [
      "<class 'pandas.core.frame.DataFrame'>\n",
      "Int64Index: 502 entries, 14399 to 14900\n",
      "Data columns (total 8 columns):\n",
      "name          502 non-null object\n",
      "grantee       502 non-null object\n",
      "centerType    502 non-null object\n",
      "phone         498 non-null object\n",
      "address       502 non-null object\n",
      "city          502 non-null object\n",
      "state         502 non-null object\n",
      "zip           502 non-null object\n",
      "dtypes: object(8)\n",
      "memory usage: 35.3+ KB\n"
     ]
    }
   ],
   "source": [
    "cntrs_ok = cntrs.loc[cntrs['state'] == 'OK', ['name', 'grantee', 'centerType', 'phone', \n",
    "                                              'address', 'city', 'state', 'zip']]\n",
    "cntrs_ok.info()"
   ]
  },
  {
   "cell_type": "code",
   "execution_count": 10,
   "metadata": {
    "scrolled": true
   },
   "outputs": [
    {
     "name": "stdout",
     "output_type": "stream",
     "text": [
      "           0     1\n",
      "14399  74801  7057\n",
      "14400  74801  7645\n",
      "14401  73160  3918\n",
      "14402  74801  5207\n",
      "14403  73507  2265\n",
      "14404  73069  4235\n",
      "14405  74854  2017\n",
      "14406  74801  5667\n",
      "14407  73068  9350\n",
      "14408  73069  6864\n",
      "14409  73026  9200\n",
      "14410  74873  2217\n",
      "14411  73501  7304\n",
      "14412  74801  4713\n",
      "14413  74868  3175\n",
      "14414  73160  3918\n",
      "14415  73069  6951\n",
      "14416  73071  5331\n",
      "14417  74801  5207\n",
      "14418  73507  2840\n",
      "14419  73501  4514\n",
      "14420  73507  7230\n",
      "14421  73542  4437\n",
      "14422  73573  3422\n",
      "14423  73546  9440\n",
      "14424  73624  None\n",
      "14425  73651  1636\n",
      "14426  73664  None\n",
      "14427  73632  6040\n",
      "14428  73456  None\n",
      "...      ...   ...\n",
      "14871  74454  None\n",
      "14872  74012  5348\n",
      "14873  74048  None\n",
      "14874  74361  4616\n",
      "14875  74015  2323\n",
      "14876  74467  4314\n",
      "14877  74361  3311\n",
      "14878  74012  5348\n",
      "14879  74955  5809\n",
      "14880  74727  None\n",
      "14881  74743  5816\n",
      "14882  74735  0044\n",
      "14883  74745  6630\n",
      "14884  74728  2150\n",
      "14885  74759  None\n",
      "14886  74743  8001\n",
      "14887  74743  6847\n",
      "14888  74562  7103\n",
      "14889  74764  9017\n",
      "14890  74722  9800\n",
      "14891  74728  2941\n",
      "14892  74536  None\n",
      "14893  74562  None\n",
      "14894  74745  6630\n",
      "14895  74523  3830\n",
      "14896  74743  4254\n",
      "14897  74736  None\n",
      "14898  74740  9500\n",
      "14899  74761  None\n",
      "14900  74523  3830\n",
      "\n",
      "[502 rows x 2 columns]\n"
     ]
    }
   ],
   "source": [
    "y = cntrs_ok.zip.str.split('-', expand=True)\n",
    "print(y)"
   ]
  },
  {
   "cell_type": "code",
   "execution_count": 11,
   "metadata": {
    "scrolled": true
   },
   "outputs": [
    {
     "name": "stdout",
     "output_type": "stream",
     "text": [
      "<class 'pandas.core.frame.DataFrame'>\n",
      "Int64Index: 502 entries, 14399 to 14900\n",
      "Data columns (total 10 columns):\n",
      "name          502 non-null object\n",
      "grantee       502 non-null object\n",
      "centerType    502 non-null object\n",
      "phone         498 non-null object\n",
      "address       502 non-null object\n",
      "city          502 non-null object\n",
      "state         502 non-null object\n",
      "zip           502 non-null object\n",
      "0             502 non-null object\n",
      "1             409 non-null object\n",
      "dtypes: object(10)\n",
      "memory usage: 63.1+ KB\n"
     ]
    }
   ],
   "source": [
    "x = cntrs_ok.join(y, how='left')\n",
    "x.info()"
   ]
  },
  {
   "cell_type": "code",
   "execution_count": 13,
   "metadata": {
    "scrolled": true
   },
   "outputs": [
    {
     "name": "stdout",
     "output_type": "stream",
     "text": [
      "<class 'pandas.core.frame.DataFrame'>\n",
      "Int64Index: 776 entries, 31903 to 32681\n",
      "Data columns (total 3 columns):\n",
      "0         776 non-null object\n",
      "state     776 non-null object\n",
      "county    773 non-null object\n",
      "dtypes: object(3)\n",
      "memory usage: 24.2+ KB\n"
     ]
    }
   ],
   "source": [
    "z_ok.columns = [0, 'state', 'county']\n",
    "z_ok.info()"
   ]
  },
  {
   "cell_type": "code",
   "execution_count": 14,
   "metadata": {
    "scrolled": true
   },
   "outputs": [
    {
     "name": "stdout",
     "output_type": "stream",
     "text": [
      "<class 'pandas.core.frame.DataFrame'>\n",
      "Int64Index: 502 entries, 0 to 501\n",
      "Data columns (total 12 columns):\n",
      "name          502 non-null object\n",
      "grantee       502 non-null object\n",
      "centerType    502 non-null object\n",
      "phone         498 non-null object\n",
      "address       502 non-null object\n",
      "city          502 non-null object\n",
      "state_x       502 non-null object\n",
      "zip           502 non-null object\n",
      "0             502 non-null object\n",
      "1             409 non-null object\n",
      "state_y       501 non-null object\n",
      "county        501 non-null object\n",
      "dtypes: object(12)\n",
      "memory usage: 51.0+ KB\n"
     ]
    }
   ],
   "source": [
    "fin = pd.merge(x,\n",
    "               z_ok,\n",
    "               how='left',\n",
    "               on=0)\n",
    "fin.info()"
   ]
  },
  {
   "cell_type": "code",
   "execution_count": 15,
   "metadata": {
    "scrolled": true
   },
   "outputs": [
    {
     "data": {
      "text/html": [
       "<div>\n",
       "<style scoped>\n",
       "    .dataframe tbody tr th:only-of-type {\n",
       "        vertical-align: middle;\n",
       "    }\n",
       "\n",
       "    .dataframe tbody tr th {\n",
       "        vertical-align: top;\n",
       "    }\n",
       "\n",
       "    .dataframe thead th {\n",
       "        text-align: right;\n",
       "    }\n",
       "</style>\n",
       "<table border=\"1\" class=\"dataframe\">\n",
       "  <thead>\n",
       "    <tr style=\"text-align: right;\">\n",
       "      <th></th>\n",
       "      <th>name</th>\n",
       "      <th>grantee</th>\n",
       "      <th>centerType</th>\n",
       "      <th>phone</th>\n",
       "      <th>address</th>\n",
       "      <th>city</th>\n",
       "      <th>state_x</th>\n",
       "      <th>zip</th>\n",
       "      <th>0</th>\n",
       "      <th>1</th>\n",
       "      <th>state_y</th>\n",
       "      <th>county</th>\n",
       "    </tr>\n",
       "  </thead>\n",
       "  <tbody>\n",
       "    <tr>\n",
       "      <th>0</th>\n",
       "      <td>Union Street Head Start/Early Head Start</td>\n",
       "      <td>Crossroads Youth &amp; Family Services, Inc.\\nCros...</td>\n",
       "      <td>Head Start</td>\n",
       "      <td>(405) 214-4323</td>\n",
       "      <td>501 N Union Ave</td>\n",
       "      <td>Shawnee</td>\n",
       "      <td>OK</td>\n",
       "      <td>74801-7057</td>\n",
       "      <td>74801</td>\n",
       "      <td>7057</td>\n",
       "      <td>OK</td>\n",
       "      <td>Pottawatomie County</td>\n",
       "    </tr>\n",
       "    <tr>\n",
       "      <th>1</th>\n",
       "      <td>Neighborhood Head Start</td>\n",
       "      <td>Crossroads Youth &amp; Family Services, Inc.\\nCros...</td>\n",
       "      <td>Head Start</td>\n",
       "      <td>(405) 275-9837</td>\n",
       "      <td>1002 W 7th St</td>\n",
       "      <td>Shawnee</td>\n",
       "      <td>OK</td>\n",
       "      <td>74801-7645</td>\n",
       "      <td>74801</td>\n",
       "      <td>7645</td>\n",
       "      <td>OK</td>\n",
       "      <td>Pottawatomie County</td>\n",
       "    </tr>\n",
       "    <tr>\n",
       "      <th>2</th>\n",
       "      <td>Moore Head Start</td>\n",
       "      <td>Crossroads Youth &amp; Family Services, Inc.\\nCros...</td>\n",
       "      <td>Head Start</td>\n",
       "      <td>(405) 912-9993</td>\n",
       "      <td>312 N Janeway Ave</td>\n",
       "      <td>Moore</td>\n",
       "      <td>OK</td>\n",
       "      <td>73160-3918</td>\n",
       "      <td>73160</td>\n",
       "      <td>3918</td>\n",
       "      <td>OK</td>\n",
       "      <td>Cleveland County</td>\n",
       "    </tr>\n",
       "    <tr>\n",
       "      <th>3</th>\n",
       "      <td>Learning Tree HS - Shawnee</td>\n",
       "      <td>Crossroads Youth &amp; Family Services, Inc.\\nCros...</td>\n",
       "      <td>Head Start</td>\n",
       "      <td>(405) 214-4446</td>\n",
       "      <td>1528 N McKinley Ave</td>\n",
       "      <td>Shawnee</td>\n",
       "      <td>OK</td>\n",
       "      <td>74801-5207</td>\n",
       "      <td>74801</td>\n",
       "      <td>5207</td>\n",
       "      <td>OK</td>\n",
       "      <td>Pottawatomie County</td>\n",
       "    </tr>\n",
       "    <tr>\n",
       "      <th>4</th>\n",
       "      <td>Beginnings Academy</td>\n",
       "      <td>Crossroads Youth &amp; Family Services, Inc.\\nCros...</td>\n",
       "      <td>Head Start</td>\n",
       "      <td>(580) 354-9865</td>\n",
       "      <td>501 NW Woodridge Dr</td>\n",
       "      <td>Lawton</td>\n",
       "      <td>OK</td>\n",
       "      <td>73507-2265</td>\n",
       "      <td>73507</td>\n",
       "      <td>2265</td>\n",
       "      <td>OK</td>\n",
       "      <td>Comanche County</td>\n",
       "    </tr>\n",
       "  </tbody>\n",
       "</table>\n",
       "</div>"
      ],
      "text/plain": [
       "                                       name  \\\n",
       "0  Union Street Head Start/Early Head Start   \n",
       "1                   Neighborhood Head Start   \n",
       "2                          Moore Head Start   \n",
       "3                Learning Tree HS - Shawnee   \n",
       "4                        Beginnings Academy   \n",
       "\n",
       "                                             grantee  centerType  \\\n",
       "0  Crossroads Youth & Family Services, Inc.\\nCros...  Head Start   \n",
       "1  Crossroads Youth & Family Services, Inc.\\nCros...  Head Start   \n",
       "2  Crossroads Youth & Family Services, Inc.\\nCros...  Head Start   \n",
       "3  Crossroads Youth & Family Services, Inc.\\nCros...  Head Start   \n",
       "4  Crossroads Youth & Family Services, Inc.\\nCros...  Head Start   \n",
       "\n",
       "            phone              address     city state_x         zip      0  \\\n",
       "0  (405) 214-4323      501 N Union Ave  Shawnee      OK  74801-7057  74801   \n",
       "1  (405) 275-9837        1002 W 7th St  Shawnee      OK  74801-7645  74801   \n",
       "2  (405) 912-9993    312 N Janeway Ave    Moore      OK  73160-3918  73160   \n",
       "3  (405) 214-4446  1528 N McKinley Ave  Shawnee      OK  74801-5207  74801   \n",
       "4  (580) 354-9865  501 NW Woodridge Dr   Lawton      OK  73507-2265  73507   \n",
       "\n",
       "      1 state_y               county  \n",
       "0  7057      OK  Pottawatomie County  \n",
       "1  7645      OK  Pottawatomie County  \n",
       "2  3918      OK     Cleveland County  \n",
       "3  5207      OK  Pottawatomie County  \n",
       "4  2265      OK      Comanche County  "
      ]
     },
     "execution_count": 15,
     "metadata": {},
     "output_type": "execute_result"
    }
   ],
   "source": [
    "fin.head(5)"
   ]
  },
  {
   "cell_type": "code",
   "execution_count": 16,
   "metadata": {},
   "outputs": [],
   "source": [
    "fin.to_csv('HS_Centers_2019.csv')"
   ]
  }
 ],
 "metadata": {
  "kernelspec": {
   "display_name": "Python 3",
   "language": "python",
   "name": "python3"
  },
  "language_info": {
   "codemirror_mode": {
    "name": "ipython",
    "version": 3
   },
   "file_extension": ".py",
   "mimetype": "text/x-python",
   "name": "python",
   "nbconvert_exporter": "python",
   "pygments_lexer": "ipython3",
   "version": "3.7.3"
  }
 },
 "nbformat": 4,
 "nbformat_minor": 2
}
